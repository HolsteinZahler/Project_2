{
 "cells": [
  {
   "cell_type": "code",
   "execution_count": 27,
   "metadata": {},
   "outputs": [],
   "source": [
    "import pandas as pd\n",
    "from sqlalchemy import create_engine\n",
    "\n",
    "# Put postgreSQL credeitials into sql_login.py\n",
    "from sql_login import USERNAME as USERNAME\n",
    "from sql_login import PASSWORD as PASSWORD"
   ]
  },
  {
   "cell_type": "code",
   "execution_count": 28,
   "metadata": {},
   "outputs": [],
   "source": [
    "# This function outputs a data frame from a csv file from https://apps.fas.usda.gov/\n",
    "# It expects data from four quarters from 2015 to 2020\n",
    "def fas_csv_to_pd_df(file_name):\n",
    "    input_df = pd.read_csv(file_name)\n",
    "    out_df = pd.DataFrame(columns = ['Year','Quarter','Value','Qty'])\n",
    "    year_list = []\n",
    "    quarter_list=[]\n",
    "    for j in range(2015,2020):\n",
    "        for i in range(1,5):\n",
    "            quarter_list.append(i)\n",
    "            year_list.append(j)\n",
    "\n",
    "    out_df['Year'] = year_list\n",
    "    out_df['Quarter'] = quarter_list\n",
    "\n",
    "    value_list = []\n",
    "    quantity_list = []\n",
    "    for i in range(0,5):\n",
    "        for j in range(6,14,2):   \n",
    "            value_list.append(input_df.iloc[i,j].replace(',',''))\n",
    "            quantity_list.append(input_df.iloc[i,j+1].replace(',',''))\n",
    "    out_df['Value'] = value_list\n",
    "    out_df['Qty'] = quantity_list\n",
    "    out_df.columns = map(str.lower, out_df.columns)\n",
    "    return out_df\n",
    "    \n"
   ]
  },
  {
   "cell_type": "code",
   "execution_count": 31,
   "metadata": {},
   "outputs": [],
   "source": [
    "# Rearrange data for corn\n",
    "corn_df = fas_csv_to_pd_df('Resources/Corn.csv')\n",
    "corn_df\n",
    "# Rearrange data for limes\n",
    "\n",
    "# Rearrange data from mangos\n",
    "mango_df = fas_csv_to_pd_df('Resources/Mango_cleaned.csv')\n",
    "mango_df\n",
    "# Rearrange data for sorghum\n",
    "\n",
    "corn_df[['value','qty']] = corn_df[['value','qty']].apply(pd.to_numeric)\n",
    "mango_df[['value','qty']] = mango_df[['value','qty']].apply(pd.to_numeric)\n",
    "\n",
    "corn_df['price'] = corn_df['value']/corn_df['qty']\n",
    "mango_df['price'] = mango_df['value']/mango_df['qty']"
   ]
  },
  {
   "cell_type": "markdown",
   "metadata": {},
   "source": [
    "## Connect to postgreSQL and import the dataframe"
   ]
  },
  {
   "cell_type": "code",
   "execution_count": 32,
   "metadata": {},
   "outputs": [],
   "source": [
    "connection_string = USERNAME+':'+PASSWORD+\"@localhost:5432/avocados\"\n",
    "engine = create_engine(f'postgresql://{connection_string}')\n",
    "conn = engine.engine.connect()"
   ]
  },
  {
   "cell_type": "code",
   "execution_count": 37,
   "metadata": {},
   "outputs": [
    {
     "data": {
      "text/plain": [
       "<sqlalchemy.engine.result.ResultProxy at 0x16db3bb0c08>"
      ]
     },
     "execution_count": 37,
     "metadata": {},
     "output_type": "execute_result"
    }
   ],
   "source": [
    "# Drop avocado price table if it exists\n",
    "conn.execute('DROP TABLE IF EXISTS corn_fsda;')\n",
    "conn.execute('DROP TABLE IF EXISTS mango_fsda;')"
   ]
  },
  {
   "cell_type": "code",
   "execution_count": 39,
   "metadata": {},
   "outputs": [
    {
     "data": {
      "text/plain": [
       "<sqlalchemy.engine.result.ResultProxy at 0x16db3bb9988>"
      ]
     },
     "execution_count": 39,
     "metadata": {},
     "output_type": "execute_result"
    }
   ],
   "source": [
    "# Create tables to hold quarterly import data\n",
    "conn.execute(\n",
    "\"\"\"\n",
    "CREATE TABLE corn_fsda (\n",
    "    quarter INT,\n",
    "    year INT,\n",
    "    qty DECIMAL(20,2),\n",
    "    price double precision,\n",
    "    primary key (quarter,year)\n",
    ");\n",
    "\"\"\"\n",
    ")\n",
    "conn.execute(\n",
    "\"\"\"\n",
    "CREATE TABLE mango_fsda (\n",
    "    quarter INT,\n",
    "    year INT,\n",
    "    qty DECIMAL(20,2),\n",
    "    price double precision,\n",
    "    primary key (quarter,year)\n",
    ");\n",
    "\"\"\"\n",
    ")"
   ]
  },
  {
   "cell_type": "code",
   "execution_count": 40,
   "metadata": {},
   "outputs": [],
   "source": [
    "corn_df[['year','quarter','price']].to_sql(name='corn_fsda', con=engine, if_exists='append', index=False)\n",
    "mango_df[['year','quarter','price']].to_sql(name='mango_fsda', con=engine, if_exists='append', index=False)"
   ]
  },
  {
   "cell_type": "code",
   "execution_count": null,
   "metadata": {},
   "outputs": [],
   "source": []
  }
 ],
 "metadata": {
  "kernelspec": {
   "display_name": "Python 3",
   "language": "python",
   "name": "python3"
  },
  "language_info": {
   "codemirror_mode": {
    "name": "ipython",
    "version": 3
   },
   "file_extension": ".py",
   "mimetype": "text/x-python",
   "name": "python",
   "nbconvert_exporter": "python",
   "pygments_lexer": "ipython3",
   "version": "3.7.6"
  }
 },
 "nbformat": 4,
 "nbformat_minor": 4
}
