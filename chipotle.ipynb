{
 "cells": [
  {
   "cell_type": "code",
   "execution_count": 1,
   "metadata": {},
   "outputs": [],
   "source": [
    "import pandas as pd\n",
    "from sqlalchemy import create_engine\n",
    "\n",
    "\n",
    "# import yahoo finance\n",
    "import yfinance as yf\n",
    "# pip install yfinance\n",
    "\n",
    "# Put postgreSQL credeitials into sql_login.py\n",
    "from sql_login import USERNAME as USERNAME\n",
    "from sql_login import PASSWORD as PASSWORD"
   ]
  },
  {
   "cell_type": "markdown",
   "metadata": {},
   "source": [
    "## Get data on Chipotle Stock Prie"
   ]
  },
  {
   "cell_type": "code",
   "execution_count": 56,
   "metadata": {},
   "outputs": [],
   "source": [
    "# Set ticke for Chipotle Mexican Grill, Inc.\n",
    "#cmg = yf.Ticker(\"CMG\")\n",
    "\n",
    "# get stock info\n",
    "#cmg.info"
   ]
  },
  {
   "cell_type": "code",
   "execution_count": 2,
   "metadata": {},
   "outputs": [
    {
     "name": "stdout",
     "output_type": "stream",
     "text": [
      "[*********************100%***********************]  1 of 1 completed\n"
     ]
    }
   ],
   "source": [
    "# Retreive historical stock price data\n",
    "stock_data_df = yf.download(\"CMG\", start=\"2015-01-01\", end=\"2020-01-10\", group_by=\"ticker\")"
   ]
  },
  {
   "cell_type": "code",
   "execution_count": 3,
   "metadata": {},
   "outputs": [],
   "source": [
    "stock_data_df = stock_data_df.reset_index()"
   ]
  },
  {
   "cell_type": "code",
   "execution_count": 9,
   "metadata": {},
   "outputs": [
    {
     "data": {
      "text/html": [
       "<div>\n",
       "<style scoped>\n",
       "    .dataframe tbody tr th:only-of-type {\n",
       "        vertical-align: middle;\n",
       "    }\n",
       "\n",
       "    .dataframe tbody tr th {\n",
       "        vertical-align: top;\n",
       "    }\n",
       "\n",
       "    .dataframe thead th {\n",
       "        text-align: right;\n",
       "    }\n",
       "</style>\n",
       "<table border=\"1\" class=\"dataframe\">\n",
       "  <thead>\n",
       "    <tr style=\"text-align: right;\">\n",
       "      <th></th>\n",
       "      <th>date</th>\n",
       "      <th>open</th>\n",
       "      <th>high</th>\n",
       "      <th>low</th>\n",
       "      <th>close</th>\n",
       "      <th>adj_close</th>\n",
       "      <th>volume</th>\n",
       "      <th>id</th>\n",
       "    </tr>\n",
       "  </thead>\n",
       "  <tbody>\n",
       "    <tr>\n",
       "      <th>0</th>\n",
       "      <td>2015-01-02</td>\n",
       "      <td>686.000000</td>\n",
       "      <td>687.469971</td>\n",
       "      <td>671.010010</td>\n",
       "      <td>678.400024</td>\n",
       "      <td>678.400024</td>\n",
       "      <td>324800</td>\n",
       "      <td>0</td>\n",
       "    </tr>\n",
       "    <tr>\n",
       "      <th>1</th>\n",
       "      <td>2015-01-05</td>\n",
       "      <td>678.400024</td>\n",
       "      <td>679.919983</td>\n",
       "      <td>664.200012</td>\n",
       "      <td>667.690002</td>\n",
       "      <td>667.690002</td>\n",
       "      <td>374400</td>\n",
       "      <td>1</td>\n",
       "    </tr>\n",
       "    <tr>\n",
       "      <th>2</th>\n",
       "      <td>2015-01-06</td>\n",
       "      <td>666.789978</td>\n",
       "      <td>672.000000</td>\n",
       "      <td>653.770020</td>\n",
       "      <td>664.380005</td>\n",
       "      <td>664.380005</td>\n",
       "      <td>609400</td>\n",
       "      <td>2</td>\n",
       "    </tr>\n",
       "    <tr>\n",
       "      <th>3</th>\n",
       "      <td>2015-01-07</td>\n",
       "      <td>668.400024</td>\n",
       "      <td>694.849976</td>\n",
       "      <td>668.400024</td>\n",
       "      <td>694.260010</td>\n",
       "      <td>694.260010</td>\n",
       "      <td>685600</td>\n",
       "      <td>3</td>\n",
       "    </tr>\n",
       "    <tr>\n",
       "      <th>4</th>\n",
       "      <td>2015-01-08</td>\n",
       "      <td>702.500000</td>\n",
       "      <td>727.969971</td>\n",
       "      <td>702.500000</td>\n",
       "      <td>719.989990</td>\n",
       "      <td>719.989990</td>\n",
       "      <td>1169900</td>\n",
       "      <td>4</td>\n",
       "    </tr>\n",
       "    <tr>\n",
       "      <th>...</th>\n",
       "      <td>...</td>\n",
       "      <td>...</td>\n",
       "      <td>...</td>\n",
       "      <td>...</td>\n",
       "      <td>...</td>\n",
       "      <td>...</td>\n",
       "      <td>...</td>\n",
       "      <td>...</td>\n",
       "    </tr>\n",
       "    <tr>\n",
       "      <th>1260</th>\n",
       "      <td>2020-01-06</td>\n",
       "      <td>862.000000</td>\n",
       "      <td>862.799988</td>\n",
       "      <td>854.000000</td>\n",
       "      <td>858.020020</td>\n",
       "      <td>858.020020</td>\n",
       "      <td>405200</td>\n",
       "      <td>1260</td>\n",
       "    </tr>\n",
       "    <tr>\n",
       "      <th>1261</th>\n",
       "      <td>2020-01-07</td>\n",
       "      <td>863.000000</td>\n",
       "      <td>863.000000</td>\n",
       "      <td>854.390015</td>\n",
       "      <td>860.080017</td>\n",
       "      <td>860.080017</td>\n",
       "      <td>243300</td>\n",
       "      <td>1261</td>\n",
       "    </tr>\n",
       "    <tr>\n",
       "      <th>1262</th>\n",
       "      <td>2020-01-08</td>\n",
       "      <td>856.150024</td>\n",
       "      <td>867.000000</td>\n",
       "      <td>856.150024</td>\n",
       "      <td>856.729980</td>\n",
       "      <td>856.729980</td>\n",
       "      <td>262500</td>\n",
       "      <td>1262</td>\n",
       "    </tr>\n",
       "    <tr>\n",
       "      <th>1263</th>\n",
       "      <td>2020-01-09</td>\n",
       "      <td>866.859985</td>\n",
       "      <td>877.000000</td>\n",
       "      <td>859.469971</td>\n",
       "      <td>862.669983</td>\n",
       "      <td>862.669983</td>\n",
       "      <td>457300</td>\n",
       "      <td>1263</td>\n",
       "    </tr>\n",
       "    <tr>\n",
       "      <th>1264</th>\n",
       "      <td>2020-01-10</td>\n",
       "      <td>866.000000</td>\n",
       "      <td>866.570007</td>\n",
       "      <td>853.090027</td>\n",
       "      <td>857.770020</td>\n",
       "      <td>857.770020</td>\n",
       "      <td>301900</td>\n",
       "      <td>1264</td>\n",
       "    </tr>\n",
       "  </tbody>\n",
       "</table>\n",
       "<p>1265 rows × 8 columns</p>\n",
       "</div>"
      ],
      "text/plain": [
       "           date        open        high         low       close   adj_close  \\\n",
       "0    2015-01-02  686.000000  687.469971  671.010010  678.400024  678.400024   \n",
       "1    2015-01-05  678.400024  679.919983  664.200012  667.690002  667.690002   \n",
       "2    2015-01-06  666.789978  672.000000  653.770020  664.380005  664.380005   \n",
       "3    2015-01-07  668.400024  694.849976  668.400024  694.260010  694.260010   \n",
       "4    2015-01-08  702.500000  727.969971  702.500000  719.989990  719.989990   \n",
       "...         ...         ...         ...         ...         ...         ...   \n",
       "1260 2020-01-06  862.000000  862.799988  854.000000  858.020020  858.020020   \n",
       "1261 2020-01-07  863.000000  863.000000  854.390015  860.080017  860.080017   \n",
       "1262 2020-01-08  856.150024  867.000000  856.150024  856.729980  856.729980   \n",
       "1263 2020-01-09  866.859985  877.000000  859.469971  862.669983  862.669983   \n",
       "1264 2020-01-10  866.000000  866.570007  853.090027  857.770020  857.770020   \n",
       "\n",
       "       volume    id  \n",
       "0      324800     0  \n",
       "1      374400     1  \n",
       "2      609400     2  \n",
       "3      685600     3  \n",
       "4     1169900     4  \n",
       "...       ...   ...  \n",
       "1260   405200  1260  \n",
       "1261   243300  1261  \n",
       "1262   262500  1262  \n",
       "1263   457300  1263  \n",
       "1264   301900  1264  \n",
       "\n",
       "[1265 rows x 8 columns]"
      ]
     },
     "execution_count": 9,
     "metadata": {},
     "output_type": "execute_result"
    }
   ],
   "source": [
    "stock_data_df.columns = map(str.lower, stock_data_df.columns)\n",
    "\n",
    "stock_data_df = stock_data_df.rename(columns={\"adj close\":\"adj_close\"})\n",
    "\n",
    "stock_data_df['id'] = [j for j in range(0,stock_data_df.shape[0])]\n",
    "\n",
    "stock_data_df"
   ]
  },
  {
   "cell_type": "code",
   "execution_count": 10,
   "metadata": {},
   "outputs": [],
   "source": [
    "rds_connection_string = USERNAME+':'+PASSWORD+\"@localhost:5432/avocados\"\n",
    "engine = create_engine(f'postgresql://{rds_connection_string}')\n",
    "conn = engine.engine.connect()"
   ]
  },
  {
   "cell_type": "code",
   "execution_count": 11,
   "metadata": {},
   "outputs": [
    {
     "data": {
      "text/plain": [
       "<sqlalchemy.engine.result.ResultProxy at 0x24c80102588>"
      ]
     },
     "execution_count": 11,
     "metadata": {},
     "output_type": "execute_result"
    }
   ],
   "source": [
    "# Create table to hold yfinance data\n",
    "conn.execute('DROP TABLE IF EXISTS cmg;')"
   ]
  },
  {
   "cell_type": "code",
   "execution_count": 12,
   "metadata": {},
   "outputs": [
    {
     "data": {
      "text/plain": [
       "<sqlalchemy.engine.result.ResultProxy at 0x24c801542c8>"
      ]
     },
     "execution_count": 12,
     "metadata": {},
     "output_type": "execute_result"
    }
   ],
   "source": [
    "conn.execute(\n",
    "\"\"\"\n",
    "    CREATE TABLE cmg (\n",
    "    id INT PRIMARY KEY,\n",
    "\tdate date,\n",
    "\topen DECIMAL(12,7),\n",
    "\thigh DECIMAL(12,7),\n",
    "\tlow DECIMAL(12,7),\n",
    "\tclose DECIMAL(12,7),\n",
    "    adj_close DECIMAL(12,7),\n",
    "    volume INT);\n",
    "\"\"\"\n",
    ")"
   ]
  },
  {
   "cell_type": "code",
   "execution_count": 13,
   "metadata": {},
   "outputs": [
    {
     "data": {
      "text/plain": [
       "['cmg']"
      ]
     },
     "execution_count": 13,
     "metadata": {},
     "output_type": "execute_result"
    }
   ],
   "source": [
    "# Confirm tables\n",
    "engine.table_names()"
   ]
  },
  {
   "cell_type": "markdown",
   "metadata": {},
   "source": [
    "## Load DataFrames into database"
   ]
  },
  {
   "cell_type": "code",
   "execution_count": 14,
   "metadata": {},
   "outputs": [],
   "source": [
    "stock_data_df[['id','date','open','high','low','close','adj_close','volume']].to_sql(name='cmg', con=engine, if_exists='append', index=False)"
   ]
  },
  {
   "cell_type": "code",
   "execution_count": null,
   "metadata": {},
   "outputs": [],
   "source": []
  }
 ],
 "metadata": {
  "kernelspec": {
   "display_name": "Python 3",
   "language": "python",
   "name": "python3"
  },
  "language_info": {
   "codemirror_mode": {
    "name": "ipython",
    "version": 3
   },
   "file_extension": ".py",
   "mimetype": "text/x-python",
   "name": "python",
   "nbconvert_exporter": "python",
   "pygments_lexer": "ipython3",
   "version": "3.7.6"
  }
 },
 "nbformat": 4,
 "nbformat_minor": 4
}
